{
  "nbformat": 4,
  "nbformat_minor": 0,
  "metadata": {
    "colab": {
      "provenance": [],
      "authorship_tag": "ABX9TyNd7JYJIUdwdszVVpuJ+rjV",
      "include_colab_link": true
    },
    "kernelspec": {
      "name": "python3",
      "display_name": "Python 3"
    },
    "language_info": {
      "name": "python"
    }
  },
  "cells": [
    {
      "cell_type": "markdown",
      "metadata": {
        "id": "view-in-github",
        "colab_type": "text"
      },
      "source": [
        "<a href=\"https://colab.research.google.com/github/chebbin/datasci_5_statistics/blob/main/507_chi_square.ipynb\" target=\"_parent\"><img src=\"https://colab.research.google.com/assets/colab-badge.svg\" alt=\"Open In Colab\"/></a>"
      ]
    },
    {
      "cell_type": "code",
      "source": [
        "import pandas as pd\n",
        "from scipy.stats import chi2_contingency\n",
        "from scipy.stats import ttest_ind\n",
        "\n"
      ],
      "metadata": {
        "id": "LWQ22m80O-N5"
      },
      "execution_count": 22,
      "outputs": []
    },
    {
      "cell_type": "code",
      "execution_count": 9,
      "metadata": {
        "id": "B7kwMMfmKDiV"
      },
      "outputs": [],
      "source": [
        "df = pd.read_csv ('/content/diabetes_health_indicators.csv')"
      ]
    },
    {
      "cell_type": "markdown",
      "source": [
        "# Chi-Square Test\n",
        "\n",
        "##  There is a statistically significant association between the presence of fruit and vegetable consumption and the absence of high blood pressure.\n",
        "\n",
        "Null Hypothesis: The presence of fruit and vegetable consumption do not affect blood pressure."
      ],
      "metadata": {
        "id": "3maXeWB-PvAv"
      }
    },
    {
      "cell_type": "markdown",
      "source": [
        "## From the Data Dictionary:\n",
        "For 'Fruits' and 'Veggies'\n",
        "Consume Fruit or Veggies 1 or more times per day  \n",
        "0 = no   \n",
        "1 = yes  \n",
        "\n",
        "For 'HighBP'  \n",
        "0 = no high BP  \n",
        "1 = high BP  \n"
      ],
      "metadata": {
        "id": "G1C_MUvScJaP"
      }
    },
    {
      "cell_type": "code",
      "source": [
        "df['Fruits'].value_counts()\n",
        "df['HighBP'].value_counts()\n"
      ],
      "metadata": {
        "colab": {
          "base_uri": "https://localhost:8080/"
        },
        "id": "XMfs0j_CUcFA",
        "outputId": "7235291a-6434-478b-ab68-6ded4534df9c"
      },
      "execution_count": 15,
      "outputs": [
        {
          "output_type": "execute_result",
          "data": {
            "text/plain": [
              "0.0    106991\n",
              "1.0     80179\n",
              "Name: HighBP, dtype: int64"
            ]
          },
          "metadata": {},
          "execution_count": 15
        }
      ]
    },
    {
      "cell_type": "code",
      "source": [
        "contingency_table = pd.crosstab(df['HighBP'], df['Fruits'])\n",
        "print(contingency_table)"
      ],
      "metadata": {
        "colab": {
          "base_uri": "https://localhost:8080/"
        },
        "id": "aZUk08gHVZSh",
        "outputId": "0e9ab856-19ef-4621-86ba-27ca3c59ed3f"
      },
      "execution_count": 11,
      "outputs": [
        {
          "output_type": "stream",
          "name": "stdout",
          "text": [
            "Fruits    0.0    1.0\n",
            "HighBP              \n",
            "0.0     36996  69995\n",
            "1.0     30838  49341\n"
          ]
        }
      ]
    },
    {
      "cell_type": "markdown",
      "source": [
        "## The large chi value indicates that there is a statistically significant relationship between the consumption of fruit and the absence of high blood pressure.\n",
        "\n",
        "The very low P value indicates that the null hypothesis is not rejected."
      ],
      "metadata": {
        "id": "kETjlHTzb-0v"
      }
    },
    {
      "cell_type": "code",
      "source": [
        "chi2, p, _, _ = chi2_contingency(contingency_table)\n",
        "print(f\"Chi2 value: {chi2}\")\n",
        "print(f\"P-value: {p}\")"
      ],
      "metadata": {
        "colab": {
          "base_uri": "https://localhost:8080/"
        },
        "id": "cWQVEJ83WInT",
        "outputId": "d104bd53-6033-43af-b0ae-98e41532fae8"
      },
      "execution_count": 21,
      "outputs": [
        {
          "output_type": "stream",
          "name": "stdout",
          "text": [
            "Chi2 value: 713.4956336632968\n",
            "P-value: 3.475598116599304e-157\n"
          ]
        }
      ]
    },
    {
      "cell_type": "code",
      "source": [
        "df['Veggies'].value_counts()\n",
        "df['HighBP'].value_counts()"
      ],
      "metadata": {
        "colab": {
          "base_uri": "https://localhost:8080/"
        },
        "id": "to5xRZAIVA1D",
        "outputId": "61c80a00-235e-402b-e22f-680fa868f4af"
      },
      "execution_count": 16,
      "outputs": [
        {
          "output_type": "execute_result",
          "data": {
            "text/plain": [
              "0.0    106991\n",
              "1.0     80179\n",
              "Name: HighBP, dtype: int64"
            ]
          },
          "metadata": {},
          "execution_count": 16
        }
      ]
    },
    {
      "cell_type": "code",
      "source": [
        "contingency_table2 = pd.crosstab(df['HighBP'], df['Veggies'])\n",
        "print(contingency_table)"
      ],
      "metadata": {
        "colab": {
          "base_uri": "https://localhost:8080/"
        },
        "id": "thHHG8mdVu4_",
        "outputId": "89b23bc5-788f-493c-827b-067e7177fdec"
      },
      "execution_count": 18,
      "outputs": [
        {
          "output_type": "stream",
          "name": "stdout",
          "text": [
            "Veggies    0.0    1.0\n",
            "HighBP               \n",
            "0.0      18064  88927\n",
            "1.0      17461  62718\n"
          ]
        }
      ]
    },
    {
      "cell_type": "markdown",
      "source": [
        "## The large chi value indicates that there is a statistically significant relationship between the consumption of vegetables and the absence of high blood pressure\n",
        "\n",
        "The very low P value indicates that the null hypothesis is not rejected."
      ],
      "metadata": {
        "id": "4bdUZuDZbicS"
      }
    },
    {
      "cell_type": "code",
      "source": [
        "chi2, p, _, _ = chi2_contingency(contingency_table2)\n",
        "print(f\"Chi2 value: {chi2}\")\n",
        "print(f\"P-value: {p}\")"
      ],
      "metadata": {
        "colab": {
          "base_uri": "https://localhost:8080/"
        },
        "id": "NsuLpdVpY14d",
        "outputId": "e10a169d-bdf1-4a1e-d5fa-4657bb7f5d2b"
      },
      "execution_count": 20,
      "outputs": [
        {
          "output_type": "stream",
          "name": "stdout",
          "text": [
            "Chi2 value: 713.4956336632968\n",
            "P-value: 3.475598116599304e-157\n"
          ]
        }
      ]
    }
  ]
}
